{
 "cells": [
  {
   "cell_type": "code",
   "execution_count": null,
   "metadata": {},
   "outputs": [],
   "source": [
    "# lib\n",
    "import pandas as pd\n",
    "from selenium import webdriver\n",
    "import time\n",
    "\n",
    "# import Alert \n",
    "from selenium.webdriver.common.alert import Alert"
   ]
  },
  {
   "cell_type": "code",
   "execution_count": null,
   "metadata": {},
   "outputs": [],
   "source": [
    "# Activating the chrome browser\n",
    "driver=webdriver.Chrome(\"chromedriver.exe\") \n",
    "time.sleep(2)\n",
    "\n",
    "# Opening the ET Webpage\n",
    "url = \"https://www.makemytrip.com/flight/search?itinerary=DEL-BLR-11/10/2021&tripType=O&paxType=A-1_C-0_I-0&intl=false&cabinClass=E&ccde=IN&lang=eng\"\n",
    "driver.get(url)\n",
    "time.sleep(3)"
   ]
  },
  {
   "cell_type": "code",
   "execution_count": null,
   "metadata": {},
   "outputs": [],
   "source": [
    "Flight_Price= {}\n",
    "Flight_Price['Airline'] = []\n",
    "Flight_Price['Source'] = []\n",
    "Flight_Price['Destination'] = []\n",
    "Flight_Price['Dep_Time'] = []\n",
    "Flight_Price['Arrival_Time'] = []\n",
    "Flight_Price['Duration'] = []\n",
    "Flight_Price['Total_Stops'] = []\n",
    "Flight_Price['Price'] = []"
   ]
  },
  {
   "cell_type": "code",
   "execution_count": null,
   "metadata": {},
   "outputs": [],
   "source": [
    "airLine = driver.find_elements_by_xpath(\"//div[@class='makeFlex simpleow']/div/div/span\")\n",
    "for i in airLine:\n",
    "    try:\n",
    "        Flight_Price['Airline'].append(i.text)\n",
    "    except:\n",
    "        Flight_Price['Airline'].append(\"-\")\n",
    "\n",
    "source = driver.find_elements_by_xpath(\"//div[@class='flightTimeSection flexOne timeInfoLeft']/div/p[2]\")\n",
    "for i in source:\n",
    "    try:\n",
    "        Flight_Price['Source'].append(i.text)\n",
    "    except:\n",
    "        Flight_Price['Source'].append(\"-\")\n",
    "\n",
    "destination = driver.find_elements_by_xpath(\"//div[@class='flightTimeSection flexOne timeInfoRight']/div/p[2]\")\n",
    "for i in destination :\n",
    "    try:\n",
    "        Flight_Price['Destination'].append(i.text)\n",
    "    except:\n",
    "        Flight_Price['Destination'].append(\"-\")\n",
    "\n",
    "total_Stops = driver.find_elements_by_xpath(\"//div[@class='stop-info flexOne']/div/p\")\n",
    "for i in total_Stops:\n",
    "    try:\n",
    "        Flight_Price['Total_Stops'].append(i.text)\n",
    "    except:\n",
    "        Flight_Price['Total_Stops'].append(\"-\")\n",
    "        \n",
    "\n",
    "dep_time = driver.find_elements_by_xpath(\"//div[@class='flightTimeSection flexOne timeInfoLeft']/div/p[1]\")\n",
    "for i in dep_time:\n",
    "    try:\n",
    "        Flight_Price['Dep_Time'].append(i.text)\n",
    "    except:\n",
    "        Flight_Price['Dep_Time'].append(\"-\")\n",
    "\n",
    "arrival_time = driver.find_elements_by_xpath(\"//div[@class='flightTimeSection flexOne timeInfoRight']/div/p[1]\")\n",
    "for i in arrival_time:\n",
    "    try:\n",
    "        Flight_Price['Arrival_Time'].append(i.text)\n",
    "    except:\n",
    "        Flight_Price['Arrival_Time'].append(\"-\")\n",
    "        \n",
    "duration = driver.find_elements_by_xpath(\"//div[@class='stop-info flexOne']/p\")\n",
    "for i in duration:\n",
    "    try:\n",
    "        Flight_Price['Duration'].append(i.text)\n",
    "    except:\n",
    "        Flight_Price['Duration'].append(\"-\")\n",
    "        \n",
    "price = driver.find_elements_by_xpath(\"//div[@class='textRight flexOne']/p\")\n",
    "for i in price:\n",
    "    try:\n",
    "        Flight_Price['Price'].append(i.text)\n",
    "    except:\n",
    "        Flight_Price['Price'].append(\"-\")"
   ]
  },
  {
   "cell_type": "code",
   "execution_count": null,
   "metadata": {},
   "outputs": [],
   "source": [
    "Flight_Prices = pd.DataFrame(Flight_Price)\n",
    "Flight_Prices.to_csv(\"flight.csv\")"
   ]
  },
  {
   "cell_type": "code",
   "execution_count": null,
   "metadata": {},
   "outputs": [],
   "source": [
    "Flight_Prices.head()"
   ]
  },
  {
   "cell_type": "code",
   "execution_count": null,
   "metadata": {},
   "outputs": [],
   "source": []
  }
 ],
 "metadata": {
  "kernelspec": {
   "display_name": "Python 3",
   "language": "python",
   "name": "python3"
  },
  "language_info": {
   "codemirror_mode": {
    "name": "ipython",
    "version": 3
   },
   "file_extension": ".py",
   "mimetype": "text/x-python",
   "name": "python",
   "nbconvert_exporter": "python",
   "pygments_lexer": "ipython3",
   "version": "3.8.5"
  }
 },
 "nbformat": 4,
 "nbformat_minor": 4
}
