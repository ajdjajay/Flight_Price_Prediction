{
 "cells": [
  {
   "cell_type": "code",
   "execution_count": 1,
   "metadata": {
    "collapsed": true,
    "scrolled": true
   },
   "outputs": [],
   "source": [
    "#Importing all necessary Libraries\n",
    "import selenium\n",
    "import pandas as pd\n",
    "import numpy as np\n",
    "from selenium import webdriver\n",
    "from bs4 import BeautifulSoup\n",
    "import requests\n",
    "import time\n",
    "from selenium.common.exceptions import NoSuchElementException,ElementNotInteractableException,ElementNotVisibleException\n",
    "import re\n",
    "import warnings\n",
    "warnings.filterwarnings('ignore')"
   ]
  },
  {
   "cell_type": "code",
   "execution_count": 2,
   "metadata": {
    "collapsed": true,
    "scrolled": true
   },
   "outputs": [],
   "source": [
    "from selenium.webdriver.edge.service import Service"
   ]
  },
  {
   "cell_type": "code",
   "execution_count": 3,
   "metadata": {
    "collapsed": true,
    "scrolled": true
   },
   "outputs": [],
   "source": [
    "s = Service(\"msedgedriver.exe\")"
   ]
  },
  {
   "cell_type": "markdown",
   "metadata": {},
   "source": [
    "Scraping data from Yatra.com"
   ]
  },
  {
   "cell_type": "code",
   "execution_count": 6,
   "metadata": {
    "collapsed": true,
    "scrolled": true
   },
   "outputs": [],
   "source": [
    "flturl =[] #creating an empty list which would contain all the scraped url "
   ]
  },
  {
   "cell_type": "code",
   "execution_count": 7,
   "metadata": {
    "collapsed": true,
    "scrolled": true
   },
   "outputs": [
    {
     "ename": "IndentationError",
     "evalue": "unexpected indent (<ipython-input-7-1c410c81883a>, line 2)",
     "output_type": "error",
     "traceback": [
      "\u001b[1;36m  File \u001b[1;32m\"<ipython-input-7-1c410c81883a>\"\u001b[1;36m, line \u001b[1;32m2\u001b[0m\n\u001b[1;33m    flturl_tag = driver.find_elements_by_xpath(\"//a[@class='VueCarousel-slide items']\")\u001b[0m\n\u001b[1;37m    ^\u001b[0m\n\u001b[1;31mIndentationError\u001b[0m\u001b[1;31m:\u001b[0m unexpected indent\n"
     ]
    }
   ],
   "source": [
    "#Scraping all the necessary url data from which to scrape the required air fare data\n",
    "    flturl_tag = driver.find_elements_by_xpath(\"//a[@class='VueCarousel-slide items']\")\n",
    "\n",
    "    for u in flturl_tag:\n",
    "     try: \n",
    "        flturl.append(u.get_attribute(\"href\"))\n",
    "     except:\n",
    "        flturl.append('-')\n",
    "        \n",
    "    locbtn1 = driver.find_element_by_xpath('/html/body/div[2]/div/section/div[2]/div[2]/ul/li[2]')\n",
    "    locbtn1.click()\n",
    "    \n",
    "    for u in flturl_tag:\n",
    "     try: \n",
    "         flturl.append(u.get_attribute(\"href\"))\n",
    "     except:\n",
    "        flturl.append('-')\n",
    "    time.sleep(1)\n",
    "    \n",
    "    locbtn2 = driver.find_element_by_xpath('/html/body/div[2]/div/section/div[2]/div[2]/ul/li[3]')\n",
    "    locbtn2.click()\n",
    "    \n",
    "    for u in flturl_tag:\n",
    "     try: \n",
    "         flturl.append(u.get_attribute(\"href\"))\n",
    "     except:\n",
    "        flturl.append('-')\n",
    "    time.sleep(1)\n",
    "    \n",
    "    locbtn3 = driver.find_element_by_xpath('/html/body/div[2]/div/section/div[2]/div[2]/ul/li[4]')\n",
    "    locbtn3.click()\n",
    "    \n",
    "    for u in flturl_tag:\n",
    "     try: \n",
    "         flturl.append(u.get_attribute(\"href\"))\n",
    "     except:\n",
    "        flturl.append('-')\n",
    "    time.sleep(1)\n",
    "    \n",
    "    locbtn4 = driver.find_element_by_xpath('/html/body/div[2]/div/section/div[2]/div[2]/ul/li[5]')\n",
    "    locbtn4.click()\n",
    "    \n",
    "    for u in flturl_tag:\n",
    "     try: \n",
    "         flturl.append(u.get_attribute(\"href\"))\n",
    "     except:\n",
    "        flturl.append('-')\n",
    "    time.sleep(1)\n",
    "    \n",
    "    locbtn5 = driver.find_element_by_xpath('/html/body/div[2]/div/section/div[2]/div[2]/ul/li[6]')\n",
    "    locbtn5.click()\n",
    "    \n",
    "    for u in flturl_tag:\n",
    "     try: \n",
    "         flturl.append(u.get_attribute(\"href\"))\n",
    "     except:\n",
    "        flturl.append('-')\n",
    "    time.sleep(1)"
   ]
  },
  {
   "cell_type": "code",
   "execution_count": 8,
   "metadata": {
    "scrolled": true
   },
   "outputs": [
    {
     "data": {
      "text/plain": [
       "0"
      ]
     },
     "execution_count": 8,
     "metadata": {},
     "output_type": "execute_result"
    }
   ],
   "source": [
    "len(flturl)"
   ]
  },
  {
   "cell_type": "code",
   "execution_count": 9,
   "metadata": {
    "collapsed": true,
    "scrolled": true
   },
   "outputs": [],
   "source": [
    "flturl = [ x for x in flturl if \"https://www.yatra.com/international-flights/\" not in x ] #removing foreign flight links"
   ]
  },
  {
   "cell_type": "code",
   "execution_count": 10,
   "metadata": {
    "collapsed": true,
    "scrolled": true
   },
   "outputs": [
    {
     "data": {
      "text/plain": [
       "0"
      ]
     },
     "execution_count": 10,
     "metadata": {},
     "output_type": "execute_result"
    }
   ],
   "source": [
    "len(flturl) #the list contains all important url data for web scraping"
   ]
  },
  {
   "cell_type": "code",
   "execution_count": 11,
   "metadata": {
    "collapsed": true,
    "scrolled": true
   },
   "outputs": [],
   "source": [
    "airline = [] #empty list to contain all the scraped airline names\n",
    "fltnum= []  #empty list to contain all the scraped airline flight numbers\n",
    "src= [] #empty list to contain all the scraped airline flight route data\n",
    "deptdate = [] #empty list to contain all the scraped airline flight departure dates\n",
    "stops= [] #empty list to contain all the scraped airline flight total stops\n",
    "duration= []  #empty list to contain all the scraped airline flight duration\n",
    "price= [] #empty list to contain all the scraped airline flight ticket price\n",
    "n = [] #empty list to contain all the scraped url data for return flights"
   ]
  },
  {
   "cell_type": "code",
   "execution_count": 12,
   "metadata": {
    "collapsed": true,
    "scrolled": true
   },
   "outputs": [
    {
     "ename": "SyntaxError",
     "evalue": "invalid syntax (<ipython-input-12-664add13c772>, line 54)",
     "output_type": "error",
     "traceback": [
      "\u001b[1;36m  File \u001b[1;32m\"<ipython-input-12-664add13c772>\"\u001b[1;36m, line \u001b[1;32m54\u001b[0m\n\u001b[1;33m    web page for 10 times to deptdate list and repeats for every url webpage\"\"\"\u001b[0m\n\u001b[1;37m    ^\u001b[0m\n\u001b[1;31mSyntaxError\u001b[0m\u001b[1;31m:\u001b[0m invalid syntax\n"
     ]
    }
   ],
   "source": [
    "for l in flturl:\n",
    "    driver.get(l) #loading the url on web driver\n",
    "    time.sleep(4) # giving the webpage 4 seconds to load\n",
    "    ltag= driver.find_elements_by_xpath(\"/html/body/div[3]/div[2]/div[3]/div[1]/div[1]/article/div[2]/strong[5]/a\")\n",
    "    for u in ltag:\n",
    "        try: \n",
    "         n.append(u.get_attribute(\"href\")) \n",
    "        except:\n",
    "         n.append('-') #finds all url elements of return flights and appends them to the empty list\n",
    "    try:\n",
    "        airlinetag = driver.find_elements_by_xpath(\"//span[@class='i-b text ellipsis']\")\n",
    "        for i in airlinetag:\n",
    "            airline.append(i.text) #finds all airline name elements and appends them to airline list\n",
    "    except:\n",
    "        airline.append('-')\n",
    "        \n",
    "    try:\n",
    "        fltnumtag = driver.find_elements_by_xpath(\"//p[@class ='normal fs-11 font-lightestgrey no-wrap fl-no']/span\")\n",
    "        for i in fltnumtag: \n",
    "          fltnum.append(i.text) #finds all airline flightnumber elements and appends them to flightnumber list\n",
    "    except:\n",
    "        fltnum.append('-')   \n",
    "    try:\n",
    "        srctag = driver.find_elements_by_xpath(\"//p[@class ='fs-10 font-lightgrey no-wrap city ellipsis']\")\n",
    "        for i in srctag:\n",
    "            src.append(i.text) #finds all airline route elements and appends them to src list\n",
    "    except:\n",
    "        src.append('-')\n",
    "        \n",
    "    try:\n",
    "        stopstag = driver.find_elements_by_xpath(\"//span[@class='dotted-borderbtm' or @class='cursor-default']\")\n",
    "        for i in stopstag:\n",
    "            stops.append(i.text) #finds all airline flight total stops elements and appends them to stops list\n",
    "    except:\n",
    "        stops.append('-')\n",
    "    try:\n",
    "        durationtag = driver.find_elements_by_xpath(\"//p[@class ='fs-12 bold du mb-2']\")\n",
    "        for i in durationtag:\n",
    "            duration.append(i.text) #finds all airline flight duration elements and appends them to duration list\n",
    "    except:\n",
    "        duration.append('-')\n",
    "    \n",
    "    try:\n",
    "        pricetag = driver.find_elements_by_xpath(\"//div[@class ='i-b tipsy fare-summary-tooltip fs-18']\")\n",
    "        for i in pricetag:\n",
    "            price.append(i.text) #finds all airline flight ticket price elements and appends them to price list\n",
    "    except:\n",
    "        price.append('-')\n",
    "      \n",
    "    try:\n",
    "        deptdatetag = driver.find_element_by_xpath(\"//span[@class ='lowestDate']\")\n",
    "        for i in range(0,10):\n",
    "            deptdate.append(deptdatetag.text) \"\"\"Appends the flight date element of the current url \n",
    "                                                 web page for 10 times to deptdate list and repeats for every url webpage\"\"\" \n",
    "    except:\n",
    "        deptdate.append('-')"
   ]
  },
  {
   "cell_type": "code",
   "execution_count": 13,
   "metadata": {
    "collapsed": true,
    "scrolled": true
   },
   "outputs": [],
   "source": [
    "#Extracting Air Fare Data from URL webpages of return flights, program functions exactly same as above\n",
    "\n",
    "for l in n:\n",
    "    driver.get(l)\n",
    "    time.sleep(4)\n",
    "    \n",
    "    try:\n",
    "        airlinetag = driver.find_elements_by_xpath(\"//span[@class='i-b text ellipsis']\")\n",
    "        for i in airlinetag:\n",
    "            airline.append(i.text)\n",
    "    except:\n",
    "        airline.append('-')\n",
    "        \n",
    "    try:\n",
    "        fltnumtag = driver.find_elements_by_xpath(\"//p[@class ='normal fs-11 font-lightestgrey no-wrap fl-no']/span\")\n",
    "        for i in fltnumtag:\n",
    "          fltnum.append(i.text)\n",
    "    except:\n",
    "        fltnum.append('-')   \n",
    "    try:\n",
    "        srctag = driver.find_elements_by_xpath(\"//p[@class ='fs-10 font-lightgrey no-wrap city ellipsis']\")\n",
    "        for i in srctag:\n",
    "            src.append(i.text)\n",
    "    except:\n",
    "        src.append('-')\n",
    "        \n",
    "    try:\n",
    "        stopstag = driver.find_elements_by_xpath(\"//span[@class='dotted-borderbtm' or @class='cursor-default']\")\n",
    "        for i in stopstag:\n",
    "            stops.append(i.text)\n",
    "    except:\n",
    "        stops.append('-')\n",
    "    try:\n",
    "        durationtag = driver.find_elements_by_xpath(\"//p[@class ='fs-12 bold du mb-2']\")\n",
    "        for i in durationtag:\n",
    "            duration.append(i.text)\n",
    "    except:\n",
    "        duration.append('-')\n",
    "    \n",
    "    try:\n",
    "        pricetag = driver.find_elements_by_xpath(\"//div[@class ='i-b tipsy fare-summary-tooltip fs-18']\")\n",
    "        for i in pricetag:\n",
    "            price.append(i.text)\n",
    "    except:\n",
    "        price.append('-')\n",
    "      \n",
    "    try:\n",
    "        deptdatetag = driver.find_element_by_xpath(\"//span[@class ='lowestDate']\")\n",
    "        for i in range(0,10):\n",
    "            deptdate.append(deptdatetag.text)\n",
    "    except:\n",
    "        deptdate.append('-')"
   ]
  },
  {
   "cell_type": "code",
   "execution_count": 14,
   "metadata": {
    "collapsed": true,
    "scrolled": true
   },
   "outputs": [
    {
     "ename": "SyntaxError",
     "evalue": "invalid syntax (<ipython-input-14-4624f9865169>, line 7)",
     "output_type": "error",
     "traceback": [
      "\u001b[1;36m  File \u001b[1;32m\"<ipython-input-14-4624f9865169>\"\u001b[1;36m, line \u001b[1;32m7\u001b[0m\n\u001b[1;33m    and appends them to source and destination lists respectively.\"\"\"\u001b[0m\n\u001b[1;37m    ^\u001b[0m\n\u001b[1;31mSyntaxError\u001b[0m\u001b[1;31m:\u001b[0m invalid syntax\n"
     ]
    }
   ],
   "source": [
    "dest=[] #empty list to contain destination location data\n",
    "source=[]   #empty list to contain source location data\n",
    "for i in range(0,len(src),2):  \n",
    "    source.append(src[i])\n",
    "for i in range(1,len(src),2):\n",
    "    dest.append(src[i]) \"\"\"splits the data elements in src list into source and destination data elements \n",
    "                           and appends them to source and destination lists respectively.\"\"\""
   ]
  },
  {
   "cell_type": "code",
   "execution_count": 15,
   "metadata": {
    "collapsed": true,
    "scrolled": true
   },
   "outputs": [
    {
     "ename": "NameError",
     "evalue": "name 'source' is not defined",
     "output_type": "error",
     "traceback": [
      "\u001b[1;31m---------------------------------------------------------------------------\u001b[0m",
      "\u001b[1;31mNameError\u001b[0m                                 Traceback (most recent call last)",
      "\u001b[1;32m<ipython-input-15-cf0325e808c1>\u001b[0m in \u001b[0;36m<module>\u001b[1;34m\u001b[0m\n\u001b[0;32m      1\u001b[0m \u001b[1;31m#Creating FlightDF Data Frame with the scraped data\u001b[0m\u001b[1;33m\u001b[0m\u001b[1;33m\u001b[0m\u001b[1;33m\u001b[0m\u001b[0m\n\u001b[1;32m----> 2\u001b[1;33m \u001b[0mFlightDF\u001b[0m\u001b[1;33m=\u001b[0m \u001b[0mpd\u001b[0m\u001b[1;33m.\u001b[0m\u001b[0mDataFrame\u001b[0m\u001b[1;33m(\u001b[0m\u001b[1;33m{\u001b[0m\u001b[1;34m'Airline'\u001b[0m\u001b[1;33m:\u001b[0m\u001b[0mairline\u001b[0m\u001b[1;33m,\u001b[0m\u001b[1;34m'Flight Number'\u001b[0m\u001b[1;33m:\u001b[0m\u001b[0mfltnum\u001b[0m\u001b[1;33m,\u001b[0m\u001b[1;34m'Date of Departure'\u001b[0m\u001b[1;33m:\u001b[0m\u001b[0mdeptdate\u001b[0m\u001b[1;33m[\u001b[0m\u001b[1;36m0\u001b[0m\u001b[1;33m:\u001b[0m\u001b[1;36m1175\u001b[0m\u001b[1;33m]\u001b[0m\u001b[1;33m,\u001b[0m\u001b[1;34m'From'\u001b[0m\u001b[1;33m:\u001b[0m\u001b[0msource\u001b[0m\u001b[1;33m,\u001b[0m\u001b[1;34m'To'\u001b[0m\u001b[1;33m:\u001b[0m\u001b[0mdest\u001b[0m\u001b[1;33m,\u001b[0m\u001b[1;34m'Duration'\u001b[0m\u001b[1;33m:\u001b[0m\u001b[0mduration\u001b[0m\u001b[1;33m,\u001b[0m\u001b[1;34m'Total Stops'\u001b[0m\u001b[1;33m:\u001b[0m\u001b[0mstops\u001b[0m\u001b[1;33m,\u001b[0m\u001b[1;34m'Price'\u001b[0m\u001b[1;33m:\u001b[0m\u001b[0mprice\u001b[0m\u001b[1;33m}\u001b[0m\u001b[1;33m)\u001b[0m\u001b[1;33m\u001b[0m\u001b[1;33m\u001b[0m\u001b[0m\n\u001b[0m",
      "\u001b[1;31mNameError\u001b[0m: name 'source' is not defined"
     ]
    }
   ],
   "source": [
    "#Creating FlightDF Data Frame with the scraped data\n",
    "FlightDF= pd.DataFrame({'Airline':airline,'Flight Number':fltnum,'Date of Departure':deptdate[0:1175],'From':source,'To':dest,'Duration':duration,'Total Stops':stops,'Price':price})"
   ]
  },
  {
   "cell_type": "code",
   "execution_count": 16,
   "metadata": {
    "collapsed": true,
    "scrolled": true
   },
   "outputs": [
    {
     "ename": "NameError",
     "evalue": "name 'FlightDF' is not defined",
     "output_type": "error",
     "traceback": [
      "\u001b[1;31m---------------------------------------------------------------------------\u001b[0m",
      "\u001b[1;31mNameError\u001b[0m                                 Traceback (most recent call last)",
      "\u001b[1;32m<ipython-input-16-3f290929152e>\u001b[0m in \u001b[0;36m<module>\u001b[1;34m\u001b[0m\n\u001b[1;32m----> 1\u001b[1;33m \u001b[0mFlightDF\u001b[0m\u001b[1;33m\u001b[0m\u001b[1;33m\u001b[0m\u001b[0m\n\u001b[0m",
      "\u001b[1;31mNameError\u001b[0m: name 'FlightDF' is not defined"
     ]
    }
   ],
   "source": [
    "FlightDF"
   ]
  },
  {
   "cell_type": "code",
   "execution_count": 17,
   "metadata": {
    "collapsed": true,
    "scrolled": true
   },
   "outputs": [
    {
     "ename": "NameError",
     "evalue": "name 'FlightDF' is not defined",
     "output_type": "error",
     "traceback": [
      "\u001b[1;31m---------------------------------------------------------------------------\u001b[0m",
      "\u001b[1;31mNameError\u001b[0m                                 Traceback (most recent call last)",
      "\u001b[1;32m<ipython-input-17-e68aadf2b56e>\u001b[0m in \u001b[0;36m<module>\u001b[1;34m\u001b[0m\n\u001b[1;32m----> 1\u001b[1;33m \u001b[0mFlightDF\u001b[0m\u001b[1;33m.\u001b[0m\u001b[0mto_csv\u001b[0m\u001b[1;33m(\u001b[0m\u001b[1;34m'FlightDatascrape.csv'\u001b[0m\u001b[1;33m)\u001b[0m \u001b[1;31m# Saving as .csv file\u001b[0m\u001b[1;33m\u001b[0m\u001b[1;33m\u001b[0m\u001b[0m\n\u001b[0m",
      "\u001b[1;31mNameError\u001b[0m: name 'FlightDF' is not defined"
     ]
    }
   ],
   "source": [
    "FlightDF.to_csv('FlightDatascrape.csv') # Saving as .csv file"
   ]
  },
  {
   "cell_type": "markdown",
   "metadata": {},
   "source": [
    "Scraping Data from EaseMyTrip"
   ]
  },
  {
   "cell_type": "code",
   "execution_count": 18,
   "metadata": {
    "collapsed": true,
    "scrolled": true
   },
   "outputs": [
    {
     "ename": "TypeError",
     "evalue": "__init__() got an unexpected keyword argument 'service'",
     "output_type": "error",
     "traceback": [
      "\u001b[1;31m---------------------------------------------------------------------------\u001b[0m",
      "\u001b[1;31mTypeError\u001b[0m                                 Traceback (most recent call last)",
      "\u001b[1;32m<ipython-input-18-40bb87266cc5>\u001b[0m in \u001b[0;36m<module>\u001b[1;34m\u001b[0m\n\u001b[0;32m      1\u001b[0m \u001b[0murl\u001b[0m \u001b[1;33m=\u001b[0m  \u001b[1;34m'https://www.easemytrip.com/?utm_source=google&utm_medium=cpc&utm_campaign=14425253924&utm_content=128139253602&utm_term=easemytrip&utm_campaign=14425253924&utm_source=g_c&utm_medium=cpc&utm_term=e_easemytrip&adgroupid=128139253602&gclid=CjwKCAiAqIKNBhAIEiwAu_ZLDlT5YOtVqr_cBvopvRV97poc_Qf54b5aTshxY-ho9drT4c4ICLdOLBoC8YcQAvD_BwE'\u001b[0m\u001b[1;33m\u001b[0m\u001b[1;33m\u001b[0m\u001b[0m\n\u001b[1;32m----> 2\u001b[1;33m \u001b[0mdriver\u001b[0m \u001b[1;33m=\u001b[0m \u001b[0mwebdriver\u001b[0m\u001b[1;33m.\u001b[0m\u001b[0mEdge\u001b[0m\u001b[1;33m(\u001b[0m\u001b[0mservice\u001b[0m \u001b[1;33m=\u001b[0m \u001b[0ms\u001b[0m\u001b[1;33m)\u001b[0m\u001b[1;33m\u001b[0m\u001b[1;33m\u001b[0m\u001b[0m\n\u001b[0m\u001b[0;32m      3\u001b[0m \u001b[0mdriver\u001b[0m\u001b[1;33m.\u001b[0m\u001b[0mmaximize_window\u001b[0m\u001b[1;33m(\u001b[0m\u001b[1;33m)\u001b[0m\u001b[1;33m\u001b[0m\u001b[1;33m\u001b[0m\u001b[0m\n\u001b[0;32m      4\u001b[0m \u001b[0mdriver\u001b[0m\u001b[1;33m.\u001b[0m\u001b[0mget\u001b[0m\u001b[1;33m(\u001b[0m\u001b[0murl\u001b[0m\u001b[1;33m)\u001b[0m \u001b[1;31m#accessing the url on web driver\u001b[0m\u001b[1;33m\u001b[0m\u001b[1;33m\u001b[0m\u001b[0m\n",
      "\u001b[1;31mTypeError\u001b[0m: __init__() got an unexpected keyword argument 'service'"
     ]
    }
   ],
   "source": [
    "url =  'https://www.easemytrip.com/?utm_source=google&utm_medium=cpc&utm_campaign=14425253924&utm_content=128139253602&utm_term=easemytrip&utm_campaign=14425253924&utm_source=g_c&utm_medium=cpc&utm_term=e_easemytrip&adgroupid=128139253602&gclid=CjwKCAiAqIKNBhAIEiwAu_ZLDlT5YOtVqr_cBvopvRV97poc_Qf54b5aTshxY-ho9drT4c4ICLdOLBoC8YcQAvD_BwE'\n",
    "driver = webdriver.Edge(service = s)\n",
    "driver.maximize_window() \n",
    "driver.get(url) #accessing the url on web driver"
   ]
  },
  {
   "cell_type": "code",
   "execution_count": 19,
   "metadata": {
    "collapsed": true,
    "scrolled": true
   },
   "outputs": [],
   "source": [
    "#Storing the required urls for web scraping in a list\n",
    "n = ['https://flight.easemytrip.com/FlightList/Index?org=DEL-Delhi,%20India%20,&dept=BOM-Mumbai,%20India%20,&adt=1&chd=0&inf=0&cabin=0&airline=Any&deptDT=28/11/2021&arrDT=&isOneway=true&isDomestic=true&CouponCode=&lang=&ompAff=&bc=&ISWL=','https://flight.easemytrip.com/FlightList/Index?org=BOM-Mumbai,%20India%20,&dept=DEL-Delhi,%20India%20,&adt=1&chd=0&inf=0&cabin=0&airline=Any&deptDT=29/11/2021&arrDT=&isOneway=true&isDomestic=true&CouponCode=&lang=&ompAff=&bc=&ISWL=','https://flight.easemytrip.com/FlightList/Index?org=DEL-Delhi,%20India%20,&dept=GOI-Goa,%20India%20,&adt=1&chd=0&inf=0&cabin=0&airline=Any&deptDT=30/11/2021&arrDT=&isOneway=true&isDomestic=true&CouponCode=&lang=&ompAff=&bc=&ISWL=','https://flight.easemytrip.com/FlightList/Index?org=DEL-Delhi,%20India%20,&dept=BLR-Bangalore,%20India%20,&adt=1&chd=0&inf=0&cabin=0&airline=Any&deptDT=01/12/2021&arrDT=&isOneway=true&isDomestic=true&CouponCode=&lang=&ompAff=&bc=&ISWL=','https://flight.easemytrip.com/FlightList/Index?org=BOM-Mumbai,%20India%20,&dept=GOI-Goa,%20India%20,&adt=1&chd=0&inf=0&cabin=0&airline=Any&deptDT=02/12/2021&arrDT=&isOneway=true&isDomestic=true&CouponCode=&lang=&ompAff=&bc=&ISWL=','https://flight.easemytrip.com/FlightList/Index?org=DEL-Delhi,%20India%20,&dept=PAT-Patna,%20India%20,&adt=1&chd=0&inf=0&cabin=0&airline=Any&deptDT=03/12/2021&arrDT=&isOneway=true&isDomestic=true&CouponCode=&lang=&ompAff=&bc=&ISWL=','https://flight.easemytrip.com/FlightList/Index?org=DEL-Delhi,%20India%20,&dept=CCU-Kolkata,%20India%20,&adt=1&chd=0&inf=0&cabin=0&airline=Any&deptDT=04/12/2021&arrDT=&isOneway=true&isDomestic=true&CouponCode=&lang=&ompAff=&bc=&ISWL=','https://flight.easemytrip.com/FlightList/Index?org=DEL-Delhi,%20India%20,&dept=PNQ-Pune,%20India%20,&adt=1&chd=0&inf=0&cabin=0&airline=Any&deptDT=05/12/2021&arrDT=&isOneway=true&isDomestic=true&CouponCode=&lang=&ompAff=&bc=&ISWL=','https://flight.easemytrip.com/FlightList/Index?org=CCU-Kolkata,%20India%20,&dept=DEL-Delhi,%20India%20,&adt=1&chd=0&inf=0&cabin=0&airline=Any&deptDT=06/12/2021&arrDT=&isOneway=true&isDomestic=true&CouponCode=&lang=&ompAff=&bc=&ISWL=','https://flight.easemytrip.com/FlightList/Index?org=BOM-Mumbai,%20India%20,&dept=BLR-Bangalore,%20India%20,&adt=1&chd=0&inf=0&cabin=0&airline=Any&deptDT=07/12/2021&arrDT=&isOneway=true&isDomestic=true&CouponCode=&lang=&ompAff=&bc=&ISWL=']"
   ]
  },
  {
   "cell_type": "code",
   "execution_count": 20,
   "metadata": {
    "collapsed": true,
    "scrolled": true
   },
   "outputs": [],
   "source": [
    "airline = [] #empty list to contain all the scraped airline names\n",
    "fltnum= []  #empty list to contain all the scraped airline flight numbers\n",
    "src= [] #empty list to contain all the scraped airline flight route data\n",
    "deptdate = [] #empty list to contain all the scraped airline flight departure dates\n",
    "stops= [] #empty list to contain all the scraped airline flight total stops\n",
    "duration= [] #empty list to contain all the scraped airline flight duration\n",
    "price= [] #empty list to contain all the scraped airline flight ticket price"
   ]
  },
  {
   "cell_type": "code",
   "execution_count": 21,
   "metadata": {
    "collapsed": true,
    "scrolled": true
   },
   "outputs": [
    {
     "ename": "NameError",
     "evalue": "name 'driver' is not defined",
     "output_type": "error",
     "traceback": [
      "\u001b[1;31m---------------------------------------------------------------------------\u001b[0m",
      "\u001b[1;31mNameError\u001b[0m                                 Traceback (most recent call last)",
      "\u001b[1;32m<ipython-input-21-67990c2db7e4>\u001b[0m in \u001b[0;36m<module>\u001b[1;34m\u001b[0m\n\u001b[0;32m      1\u001b[0m \u001b[1;32mfor\u001b[0m \u001b[0ml\u001b[0m \u001b[1;32min\u001b[0m \u001b[0mn\u001b[0m\u001b[1;33m:\u001b[0m\u001b[1;33m\u001b[0m\u001b[1;33m\u001b[0m\u001b[0m\n\u001b[1;32m----> 2\u001b[1;33m     \u001b[0mdriver\u001b[0m\u001b[1;33m.\u001b[0m\u001b[0mget\u001b[0m\u001b[1;33m(\u001b[0m\u001b[0ml\u001b[0m\u001b[1;33m)\u001b[0m\u001b[1;31m#loading the url on web driver\u001b[0m\u001b[1;33m\u001b[0m\u001b[1;33m\u001b[0m\u001b[0m\n\u001b[0m\u001b[0;32m      3\u001b[0m     \u001b[0mtime\u001b[0m\u001b[1;33m.\u001b[0m\u001b[0msleep\u001b[0m\u001b[1;33m(\u001b[0m\u001b[1;36m4\u001b[0m\u001b[1;33m)\u001b[0m \u001b[1;31m# giving the webpage 4 seconds to load\u001b[0m\u001b[1;33m\u001b[0m\u001b[1;33m\u001b[0m\u001b[0m\n\u001b[0;32m      4\u001b[0m \u001b[1;33m\u001b[0m\u001b[0m\n\u001b[0;32m      5\u001b[0m     \u001b[1;32mtry\u001b[0m\u001b[1;33m:\u001b[0m\u001b[1;33m\u001b[0m\u001b[1;33m\u001b[0m\u001b[0m\n",
      "\u001b[1;31mNameError\u001b[0m: name 'driver' is not defined"
     ]
    }
   ],
   "source": [
    "for l in n:\n",
    "    driver.get(l)#loading the url on web driver\n",
    "    time.sleep(4) # giving the webpage 4 seconds to load\n",
    "    \n",
    "    try:\n",
    "        airlinetag = driver.find_elements_by_xpath(\"//span[@class='txt-r4 ng-binding']\")\n",
    "        for i in airlinetag:\n",
    "            airline.append(i.text)#finds all airline name elements and appends them to airline list\n",
    "            \n",
    "    except:\n",
    "        airline.append('-')\n",
    "        al.append('-')\n",
    "    try:\n",
    "        fltnumtag = driver.find_elements_by_xpath(\"//span[@class ='txt-r5']\")\n",
    "        for i in fltnumtag:   #finds all airline flightnumber elements and appends them to flightnumber list\n",
    "          fltnum.append(i.text)\n",
    "    except:\n",
    "        fltnum.append('-')   \n",
    "    try:\n",
    "        srctag = driver.find_elements_by_xpath(\"//span[@class ='txt-r3-n ng-binding']\")\n",
    "        for i in srctag:\n",
    "            src.append(i.text) #finds all airline route elements and appends them to src list\n",
    "    except:\n",
    "        src.append('-')\n",
    "        \n",
    "    try:\n",
    "        stopstag = driver.find_elements_by_xpath(\"//span[@class='dura_md2 ng-scope']\")\n",
    "        for i in stopstag:\n",
    "            stops.append(i.text) #finds all airline flight total stops elements and appends them to stops list\n",
    "    except:\n",
    "        stops.append('-')\n",
    "    try:\n",
    "        durationtag = driver.find_elements_by_xpath(\"//span[@class ='dura_md ng-binding']\")\n",
    "        for i in durationtag:\n",
    "            duration.append(i.text) #finds all airline flight duration elements and appends them to duration list\n",
    "    except:\n",
    "        duration.append('-')\n",
    "    \n",
    "    try:\n",
    "        pricetag = driver.find_elements_by_xpath(\"//div[@class ='col-md-8 col-sm-8 col-xs-9 txt-r6-n ng-binding']\")\n",
    "        for i in pricetag:\n",
    "            price.append(i.text) #finds all airline flight ticket price elements and appends them to price list\n",
    "    except:\n",
    "        price.append('-')"
   ]
  },
  {
   "cell_type": "code",
   "execution_count": 22,
   "metadata": {
    "collapsed": true,
    "scrolled": true
   },
   "outputs": [
    {
     "ename": "SyntaxError",
     "evalue": "invalid syntax (<ipython-input-22-1099a74af3f9>, line 20)",
     "output_type": "error",
     "traceback": [
      "\u001b[1;36m  File \u001b[1;32m\"<ipython-input-22-1099a74af3f9>\"\u001b[1;36m, line \u001b[1;32m20\u001b[0m\n\u001b[1;33m    to deptdate list and repeats for every url webpage\"\"\"\u001b[0m\n\u001b[1;37m    ^\u001b[0m\n\u001b[1;31mSyntaxError\u001b[0m\u001b[1;31m:\u001b[0m invalid syntax\n"
     ]
    }
   ],
   "source": [
    "for l in n:\n",
    "    driver.get(l)\n",
    "    time.sleep(4)\n",
    "    al=[] # an empty list to append airline names to be used later for scraping Date data\n",
    "    try:\n",
    "        airlinetag = driver.find_elements_by_xpath(\"//span[@class='txt-r4 ng-binding']\")\n",
    "        for i in airlinetag:\n",
    "            al.append(i.text)#finds all airline name elements and appends them to al list\n",
    "            \n",
    "    except:\n",
    "        \n",
    "        al.append('-')\n",
    "    try:\n",
    "        deptdatetag = driver.find_element_by_xpath(\"//*[@id='jssor_1']/div/div/div/div/div[2]/div[6]/div[1]/div[1]/div[1]\")\n",
    "        for i in range(0,len(al)):\n",
    "            deptdate.append(deptdatetag.text) \n",
    "    except:\n",
    "        deptdate.append('-') \"\"\"Appends the flight date element of the current url \n",
    "                                                 web page for total number of airline names on the webpage\n",
    "                                                 to deptdate list and repeats for every url webpage\"\"\""
   ]
  },
  {
   "cell_type": "code",
   "execution_count": 23,
   "metadata": {
    "collapsed": true,
    "scrolled": true
   },
   "outputs": [],
   "source": [
    "Price = list(filter(None, price))#removing blank elements from list"
   ]
  },
  {
   "cell_type": "code",
   "execution_count": 24,
   "metadata": {
    "collapsed": true,
    "scrolled": true
   },
   "outputs": [
    {
     "ename": "SyntaxError",
     "evalue": "invalid syntax (<ipython-input-24-374c9c77ae04>, line 7)",
     "output_type": "error",
     "traceback": [
      "\u001b[1;36m  File \u001b[1;32m\"<ipython-input-24-374c9c77ae04>\"\u001b[1;36m, line \u001b[1;32m7\u001b[0m\n\u001b[1;33m    and appends them to source and destination lists respectively.\"\"\"\u001b[0m\n\u001b[1;37m    ^\u001b[0m\n\u001b[1;31mSyntaxError\u001b[0m\u001b[1;31m:\u001b[0m invalid syntax\n"
     ]
    }
   ],
   "source": [
    "dest=[] #empty list to contain destination location data\n",
    "source=[]#empty list to contain source location data\n",
    "for i in range(0,len(src),2):\n",
    "    source.append(src[i])\n",
    "for i in range(1,len(src),2):\n",
    "    dest.append(src[i])\"\"\"splits the data elements in src list into source and destination data elements \n",
    "                           and appends them to source and destination lists respectively.\"\"\""
   ]
  },
  {
   "cell_type": "code",
   "execution_count": 25,
   "metadata": {
    "collapsed": true,
    "scrolled": true
   },
   "outputs": [
    {
     "ename": "NameError",
     "evalue": "name 'source' is not defined",
     "output_type": "error",
     "traceback": [
      "\u001b[1;31m---------------------------------------------------------------------------\u001b[0m",
      "\u001b[1;31mNameError\u001b[0m                                 Traceback (most recent call last)",
      "\u001b[1;32m<ipython-input-25-909dede20d97>\u001b[0m in \u001b[0;36m<module>\u001b[1;34m\u001b[0m\n\u001b[0;32m      1\u001b[0m \u001b[1;31m#Creating FlightDF Data Frame with the scraped data\u001b[0m\u001b[1;33m\u001b[0m\u001b[1;33m\u001b[0m\u001b[1;33m\u001b[0m\u001b[0m\n\u001b[1;32m----> 2\u001b[1;33m \u001b[0mFlightDF2\u001b[0m\u001b[1;33m=\u001b[0m \u001b[0mpd\u001b[0m\u001b[1;33m.\u001b[0m\u001b[0mDataFrame\u001b[0m\u001b[1;33m(\u001b[0m\u001b[1;33m{\u001b[0m\u001b[1;34m'Airline'\u001b[0m\u001b[1;33m:\u001b[0m\u001b[0mairline\u001b[0m\u001b[1;33m,\u001b[0m\u001b[1;34m'Flight Number'\u001b[0m\u001b[1;33m:\u001b[0m\u001b[0mfltnum\u001b[0m\u001b[1;33m,\u001b[0m\u001b[1;34m'Date of Departure'\u001b[0m\u001b[1;33m:\u001b[0m\u001b[0mdeptdate\u001b[0m\u001b[1;33m[\u001b[0m\u001b[1;36m0\u001b[0m\u001b[1;33m:\u001b[0m\u001b[1;36m1410\u001b[0m\u001b[1;33m]\u001b[0m\u001b[1;33m,\u001b[0m\u001b[1;34m'From'\u001b[0m\u001b[1;33m:\u001b[0m\u001b[0msource\u001b[0m\u001b[1;33m,\u001b[0m\u001b[1;34m'To'\u001b[0m\u001b[1;33m:\u001b[0m\u001b[0mdest\u001b[0m\u001b[1;33m,\u001b[0m\u001b[1;34m'Duration'\u001b[0m\u001b[1;33m:\u001b[0m\u001b[0mduration\u001b[0m\u001b[1;33m,\u001b[0m\u001b[1;34m'Total Stops'\u001b[0m\u001b[1;33m:\u001b[0m\u001b[0mstops\u001b[0m\u001b[1;33m,\u001b[0m\u001b[1;34m'Price'\u001b[0m\u001b[1;33m:\u001b[0m\u001b[0mPrice\u001b[0m\u001b[1;33m}\u001b[0m\u001b[1;33m)\u001b[0m\u001b[1;33m\u001b[0m\u001b[1;33m\u001b[0m\u001b[0m\n\u001b[0m",
      "\u001b[1;31mNameError\u001b[0m: name 'source' is not defined"
     ]
    }
   ],
   "source": [
    "#Creating FlightDF Data Frame with the scraped data\n",
    "FlightDF2= pd.DataFrame({'Airline':airline,'Flight Number':fltnum,'Date of Departure':deptdate[0:1410],'From':source,'To':dest,'Duration':duration,'Total Stops':stops,'Price':Price})"
   ]
  },
  {
   "cell_type": "code",
   "execution_count": 26,
   "metadata": {
    "collapsed": true,
    "scrolled": true
   },
   "outputs": [
    {
     "ename": "NameError",
     "evalue": "name 'FlightDF2' is not defined",
     "output_type": "error",
     "traceback": [
      "\u001b[1;31m---------------------------------------------------------------------------\u001b[0m",
      "\u001b[1;31mNameError\u001b[0m                                 Traceback (most recent call last)",
      "\u001b[1;32m<ipython-input-26-bee9e8064d10>\u001b[0m in \u001b[0;36m<module>\u001b[1;34m\u001b[0m\n\u001b[1;32m----> 1\u001b[1;33m \u001b[0mFlightDF2\u001b[0m\u001b[1;33m\u001b[0m\u001b[1;33m\u001b[0m\u001b[0m\n\u001b[0m",
      "\u001b[1;31mNameError\u001b[0m: name 'FlightDF2' is not defined"
     ]
    }
   ],
   "source": [
    "FlightDF2"
   ]
  },
  {
   "cell_type": "markdown",
   "metadata": {},
   "source": [
    "Combining the 2 DataFrames"
   ]
  },
  {
   "cell_type": "code",
   "execution_count": 27,
   "metadata": {
    "collapsed": true,
    "scrolled": true
   },
   "outputs": [
    {
     "ename": "FileNotFoundError",
     "evalue": "[Errno 2] No such file or directory: 'FlightDatascrape.csv'",
     "output_type": "error",
     "traceback": [
      "\u001b[1;31m---------------------------------------------------------------------------\u001b[0m",
      "\u001b[1;31mFileNotFoundError\u001b[0m                         Traceback (most recent call last)",
      "\u001b[1;32m<ipython-input-27-94ff00b9c512>\u001b[0m in \u001b[0;36m<module>\u001b[1;34m\u001b[0m\n\u001b[1;32m----> 1\u001b[1;33m \u001b[0mFlightDF\u001b[0m \u001b[1;33m=\u001b[0m  \u001b[0mpd\u001b[0m\u001b[1;33m.\u001b[0m\u001b[0mread_csv\u001b[0m\u001b[1;33m(\u001b[0m\u001b[1;34m'FlightDatascrape.csv'\u001b[0m\u001b[1;33m)\u001b[0m\u001b[1;33m\u001b[0m\u001b[1;33m\u001b[0m\u001b[0m\n\u001b[0m",
      "\u001b[1;32m~\\anaconda3\\lib\\site-packages\\pandas\\io\\parsers.py\u001b[0m in \u001b[0;36mread_csv\u001b[1;34m(filepath_or_buffer, sep, delimiter, header, names, index_col, usecols, squeeze, prefix, mangle_dupe_cols, dtype, engine, converters, true_values, false_values, skipinitialspace, skiprows, skipfooter, nrows, na_values, keep_default_na, na_filter, verbose, skip_blank_lines, parse_dates, infer_datetime_format, keep_date_col, date_parser, dayfirst, cache_dates, iterator, chunksize, compression, thousands, decimal, lineterminator, quotechar, quoting, doublequote, escapechar, comment, encoding, dialect, error_bad_lines, warn_bad_lines, delim_whitespace, low_memory, memory_map, float_precision)\u001b[0m\n\u001b[0;32m    684\u001b[0m     )\n\u001b[0;32m    685\u001b[0m \u001b[1;33m\u001b[0m\u001b[0m\n\u001b[1;32m--> 686\u001b[1;33m     \u001b[1;32mreturn\u001b[0m \u001b[0m_read\u001b[0m\u001b[1;33m(\u001b[0m\u001b[0mfilepath_or_buffer\u001b[0m\u001b[1;33m,\u001b[0m \u001b[0mkwds\u001b[0m\u001b[1;33m)\u001b[0m\u001b[1;33m\u001b[0m\u001b[1;33m\u001b[0m\u001b[0m\n\u001b[0m\u001b[0;32m    687\u001b[0m \u001b[1;33m\u001b[0m\u001b[0m\n\u001b[0;32m    688\u001b[0m \u001b[1;33m\u001b[0m\u001b[0m\n",
      "\u001b[1;32m~\\anaconda3\\lib\\site-packages\\pandas\\io\\parsers.py\u001b[0m in \u001b[0;36m_read\u001b[1;34m(filepath_or_buffer, kwds)\u001b[0m\n\u001b[0;32m    450\u001b[0m \u001b[1;33m\u001b[0m\u001b[0m\n\u001b[0;32m    451\u001b[0m     \u001b[1;31m# Create the parser.\u001b[0m\u001b[1;33m\u001b[0m\u001b[1;33m\u001b[0m\u001b[1;33m\u001b[0m\u001b[0m\n\u001b[1;32m--> 452\u001b[1;33m     \u001b[0mparser\u001b[0m \u001b[1;33m=\u001b[0m \u001b[0mTextFileReader\u001b[0m\u001b[1;33m(\u001b[0m\u001b[0mfp_or_buf\u001b[0m\u001b[1;33m,\u001b[0m \u001b[1;33m**\u001b[0m\u001b[0mkwds\u001b[0m\u001b[1;33m)\u001b[0m\u001b[1;33m\u001b[0m\u001b[1;33m\u001b[0m\u001b[0m\n\u001b[0m\u001b[0;32m    453\u001b[0m \u001b[1;33m\u001b[0m\u001b[0m\n\u001b[0;32m    454\u001b[0m     \u001b[1;32mif\u001b[0m \u001b[0mchunksize\u001b[0m \u001b[1;32mor\u001b[0m \u001b[0miterator\u001b[0m\u001b[1;33m:\u001b[0m\u001b[1;33m\u001b[0m\u001b[1;33m\u001b[0m\u001b[0m\n",
      "\u001b[1;32m~\\anaconda3\\lib\\site-packages\\pandas\\io\\parsers.py\u001b[0m in \u001b[0;36m__init__\u001b[1;34m(self, f, engine, **kwds)\u001b[0m\n\u001b[0;32m    944\u001b[0m             \u001b[0mself\u001b[0m\u001b[1;33m.\u001b[0m\u001b[0moptions\u001b[0m\u001b[1;33m[\u001b[0m\u001b[1;34m\"has_index_names\"\u001b[0m\u001b[1;33m]\u001b[0m \u001b[1;33m=\u001b[0m \u001b[0mkwds\u001b[0m\u001b[1;33m[\u001b[0m\u001b[1;34m\"has_index_names\"\u001b[0m\u001b[1;33m]\u001b[0m\u001b[1;33m\u001b[0m\u001b[1;33m\u001b[0m\u001b[0m\n\u001b[0;32m    945\u001b[0m \u001b[1;33m\u001b[0m\u001b[0m\n\u001b[1;32m--> 946\u001b[1;33m         \u001b[0mself\u001b[0m\u001b[1;33m.\u001b[0m\u001b[0m_make_engine\u001b[0m\u001b[1;33m(\u001b[0m\u001b[0mself\u001b[0m\u001b[1;33m.\u001b[0m\u001b[0mengine\u001b[0m\u001b[1;33m)\u001b[0m\u001b[1;33m\u001b[0m\u001b[1;33m\u001b[0m\u001b[0m\n\u001b[0m\u001b[0;32m    947\u001b[0m \u001b[1;33m\u001b[0m\u001b[0m\n\u001b[0;32m    948\u001b[0m     \u001b[1;32mdef\u001b[0m \u001b[0mclose\u001b[0m\u001b[1;33m(\u001b[0m\u001b[0mself\u001b[0m\u001b[1;33m)\u001b[0m\u001b[1;33m:\u001b[0m\u001b[1;33m\u001b[0m\u001b[1;33m\u001b[0m\u001b[0m\n",
      "\u001b[1;32m~\\anaconda3\\lib\\site-packages\\pandas\\io\\parsers.py\u001b[0m in \u001b[0;36m_make_engine\u001b[1;34m(self, engine)\u001b[0m\n\u001b[0;32m   1176\u001b[0m     \u001b[1;32mdef\u001b[0m \u001b[0m_make_engine\u001b[0m\u001b[1;33m(\u001b[0m\u001b[0mself\u001b[0m\u001b[1;33m,\u001b[0m \u001b[0mengine\u001b[0m\u001b[1;33m=\u001b[0m\u001b[1;34m\"c\"\u001b[0m\u001b[1;33m)\u001b[0m\u001b[1;33m:\u001b[0m\u001b[1;33m\u001b[0m\u001b[1;33m\u001b[0m\u001b[0m\n\u001b[0;32m   1177\u001b[0m         \u001b[1;32mif\u001b[0m \u001b[0mengine\u001b[0m \u001b[1;33m==\u001b[0m \u001b[1;34m\"c\"\u001b[0m\u001b[1;33m:\u001b[0m\u001b[1;33m\u001b[0m\u001b[1;33m\u001b[0m\u001b[0m\n\u001b[1;32m-> 1178\u001b[1;33m             \u001b[0mself\u001b[0m\u001b[1;33m.\u001b[0m\u001b[0m_engine\u001b[0m \u001b[1;33m=\u001b[0m \u001b[0mCParserWrapper\u001b[0m\u001b[1;33m(\u001b[0m\u001b[0mself\u001b[0m\u001b[1;33m.\u001b[0m\u001b[0mf\u001b[0m\u001b[1;33m,\u001b[0m \u001b[1;33m**\u001b[0m\u001b[0mself\u001b[0m\u001b[1;33m.\u001b[0m\u001b[0moptions\u001b[0m\u001b[1;33m)\u001b[0m\u001b[1;33m\u001b[0m\u001b[1;33m\u001b[0m\u001b[0m\n\u001b[0m\u001b[0;32m   1179\u001b[0m         \u001b[1;32melse\u001b[0m\u001b[1;33m:\u001b[0m\u001b[1;33m\u001b[0m\u001b[1;33m\u001b[0m\u001b[0m\n\u001b[0;32m   1180\u001b[0m             \u001b[1;32mif\u001b[0m \u001b[0mengine\u001b[0m \u001b[1;33m==\u001b[0m \u001b[1;34m\"python\"\u001b[0m\u001b[1;33m:\u001b[0m\u001b[1;33m\u001b[0m\u001b[1;33m\u001b[0m\u001b[0m\n",
      "\u001b[1;32m~\\anaconda3\\lib\\site-packages\\pandas\\io\\parsers.py\u001b[0m in \u001b[0;36m__init__\u001b[1;34m(self, src, **kwds)\u001b[0m\n\u001b[0;32m   2006\u001b[0m         \u001b[0mkwds\u001b[0m\u001b[1;33m[\u001b[0m\u001b[1;34m\"usecols\"\u001b[0m\u001b[1;33m]\u001b[0m \u001b[1;33m=\u001b[0m \u001b[0mself\u001b[0m\u001b[1;33m.\u001b[0m\u001b[0musecols\u001b[0m\u001b[1;33m\u001b[0m\u001b[1;33m\u001b[0m\u001b[0m\n\u001b[0;32m   2007\u001b[0m \u001b[1;33m\u001b[0m\u001b[0m\n\u001b[1;32m-> 2008\u001b[1;33m         \u001b[0mself\u001b[0m\u001b[1;33m.\u001b[0m\u001b[0m_reader\u001b[0m \u001b[1;33m=\u001b[0m \u001b[0mparsers\u001b[0m\u001b[1;33m.\u001b[0m\u001b[0mTextReader\u001b[0m\u001b[1;33m(\u001b[0m\u001b[0msrc\u001b[0m\u001b[1;33m,\u001b[0m \u001b[1;33m**\u001b[0m\u001b[0mkwds\u001b[0m\u001b[1;33m)\u001b[0m\u001b[1;33m\u001b[0m\u001b[1;33m\u001b[0m\u001b[0m\n\u001b[0m\u001b[0;32m   2009\u001b[0m         \u001b[0mself\u001b[0m\u001b[1;33m.\u001b[0m\u001b[0munnamed_cols\u001b[0m \u001b[1;33m=\u001b[0m \u001b[0mself\u001b[0m\u001b[1;33m.\u001b[0m\u001b[0m_reader\u001b[0m\u001b[1;33m.\u001b[0m\u001b[0munnamed_cols\u001b[0m\u001b[1;33m\u001b[0m\u001b[1;33m\u001b[0m\u001b[0m\n\u001b[0;32m   2010\u001b[0m \u001b[1;33m\u001b[0m\u001b[0m\n",
      "\u001b[1;32mpandas\\_libs\\parsers.pyx\u001b[0m in \u001b[0;36mpandas._libs.parsers.TextReader.__cinit__\u001b[1;34m()\u001b[0m\n",
      "\u001b[1;32mpandas\\_libs\\parsers.pyx\u001b[0m in \u001b[0;36mpandas._libs.parsers.TextReader._setup_parser_source\u001b[1;34m()\u001b[0m\n",
      "\u001b[1;31mFileNotFoundError\u001b[0m: [Errno 2] No such file or directory: 'FlightDatascrape.csv'"
     ]
    }
   ],
   "source": [
    "FlightDF =  pd.read_csv('FlightDatascrape.csv')"
   ]
  },
  {
   "cell_type": "code",
   "execution_count": 28,
   "metadata": {
    "collapsed": true,
    "scrolled": true
   },
   "outputs": [
    {
     "ename": "NameError",
     "evalue": "name 'FlightDF' is not defined",
     "output_type": "error",
     "traceback": [
      "\u001b[1;31m---------------------------------------------------------------------------\u001b[0m",
      "\u001b[1;31mNameError\u001b[0m                                 Traceback (most recent call last)",
      "\u001b[1;32m<ipython-input-28-3f290929152e>\u001b[0m in \u001b[0;36m<module>\u001b[1;34m\u001b[0m\n\u001b[1;32m----> 1\u001b[1;33m \u001b[0mFlightDF\u001b[0m\u001b[1;33m\u001b[0m\u001b[1;33m\u001b[0m\u001b[0m\n\u001b[0m",
      "\u001b[1;31mNameError\u001b[0m: name 'FlightDF' is not defined"
     ]
    }
   ],
   "source": [
    "FlightDF"
   ]
  },
  {
   "cell_type": "code",
   "execution_count": 29,
   "metadata": {
    "collapsed": true,
    "scrolled": true
   },
   "outputs": [
    {
     "ename": "NameError",
     "evalue": "name 'FlightDF' is not defined",
     "output_type": "error",
     "traceback": [
      "\u001b[1;31m---------------------------------------------------------------------------\u001b[0m",
      "\u001b[1;31mNameError\u001b[0m                                 Traceback (most recent call last)",
      "\u001b[1;32m<ipython-input-29-ed52db199124>\u001b[0m in \u001b[0;36m<module>\u001b[1;34m\u001b[0m\n\u001b[1;32m----> 1\u001b[1;33m \u001b[0mFlightData\u001b[0m \u001b[1;33m=\u001b[0m \u001b[0mpd\u001b[0m\u001b[1;33m.\u001b[0m\u001b[0mconcat\u001b[0m\u001b[1;33m(\u001b[0m\u001b[1;33m[\u001b[0m\u001b[0mFlightDF\u001b[0m\u001b[1;33m,\u001b[0m\u001b[0mFlightDF2\u001b[0m\u001b[1;33m]\u001b[0m\u001b[1;33m,\u001b[0m\u001b[0mignore_index\u001b[0m\u001b[1;33m=\u001b[0m\u001b[1;32mTrue\u001b[0m\u001b[1;33m)\u001b[0m\u001b[1;33m\u001b[0m\u001b[1;33m\u001b[0m\u001b[0m\n\u001b[0m",
      "\u001b[1;31mNameError\u001b[0m: name 'FlightDF' is not defined"
     ]
    }
   ],
   "source": [
    "FlightData = pd.concat([FlightDF,FlightDF2],ignore_index=True)"
   ]
  },
  {
   "cell_type": "code",
   "execution_count": 30,
   "metadata": {
    "collapsed": true,
    "scrolled": true
   },
   "outputs": [
    {
     "ename": "NameError",
     "evalue": "name 'FlightData' is not defined",
     "output_type": "error",
     "traceback": [
      "\u001b[1;31m---------------------------------------------------------------------------\u001b[0m",
      "\u001b[1;31mNameError\u001b[0m                                 Traceback (most recent call last)",
      "\u001b[1;32m<ipython-input-30-a5d9c95e9876>\u001b[0m in \u001b[0;36m<module>\u001b[1;34m\u001b[0m\n\u001b[1;32m----> 1\u001b[1;33m \u001b[0mFlightData\u001b[0m\u001b[1;33m\u001b[0m\u001b[1;33m\u001b[0m\u001b[0m\n\u001b[0m",
      "\u001b[1;31mNameError\u001b[0m: name 'FlightData' is not defined"
     ]
    }
   ],
   "source": [
    "FlightData"
   ]
  },
  {
   "cell_type": "code",
   "execution_count": 31,
   "metadata": {
    "collapsed": true,
    "scrolled": true
   },
   "outputs": [
    {
     "ename": "NameError",
     "evalue": "name 'FlightData' is not defined",
     "output_type": "error",
     "traceback": [
      "\u001b[1;31m---------------------------------------------------------------------------\u001b[0m",
      "\u001b[1;31mNameError\u001b[0m                                 Traceback (most recent call last)",
      "\u001b[1;32m<ipython-input-31-0f249595cca2>\u001b[0m in \u001b[0;36m<module>\u001b[1;34m\u001b[0m\n\u001b[1;32m----> 1\u001b[1;33m \u001b[0mFlightData\u001b[0m\u001b[1;33m.\u001b[0m\u001b[0mdrop\u001b[0m\u001b[1;33m(\u001b[0m\u001b[0mcolumns\u001b[0m\u001b[1;33m=\u001b[0m\u001b[1;33m[\u001b[0m\u001b[1;34m'Unnamed: 0'\u001b[0m\u001b[1;33m]\u001b[0m\u001b[1;33m,\u001b[0m\u001b[0minplace\u001b[0m\u001b[1;33m=\u001b[0m\u001b[1;32mTrue\u001b[0m\u001b[1;33m)\u001b[0m \u001b[1;31m#dropping Unnamed: 0 column\u001b[0m\u001b[1;33m\u001b[0m\u001b[1;33m\u001b[0m\u001b[0m\n\u001b[0m",
      "\u001b[1;31mNameError\u001b[0m: name 'FlightData' is not defined"
     ]
    }
   ],
   "source": [
    "FlightData.drop(columns=['Unnamed: 0'],inplace=True) #dropping Unnamed: 0 column"
   ]
  },
  {
   "cell_type": "code",
   "execution_count": 32,
   "metadata": {
    "collapsed": true,
    "scrolled": true
   },
   "outputs": [
    {
     "ename": "NameError",
     "evalue": "name 'FlightData' is not defined",
     "output_type": "error",
     "traceback": [
      "\u001b[1;31m---------------------------------------------------------------------------\u001b[0m",
      "\u001b[1;31mNameError\u001b[0m                                 Traceback (most recent call last)",
      "\u001b[1;32m<ipython-input-32-cc886f90df33>\u001b[0m in \u001b[0;36m<module>\u001b[1;34m\u001b[0m\n\u001b[1;32m----> 1\u001b[1;33m \u001b[0mFlightData\u001b[0m\u001b[1;33m.\u001b[0m\u001b[0mto_csv\u001b[0m\u001b[1;33m(\u001b[0m\u001b[1;34m'FlightDataWebscrape.csv'\u001b[0m\u001b[1;33m)\u001b[0m \u001b[1;31m# Saving as .csv file\u001b[0m\u001b[1;33m\u001b[0m\u001b[1;33m\u001b[0m\u001b[0m\n\u001b[0m",
      "\u001b[1;31mNameError\u001b[0m: name 'FlightData' is not defined"
     ]
    }
   ],
   "source": [
    "FlightData.to_csv('FlightDataWebscrape.csv') # Saving as .csv file"
   ]
  },
  {
   "cell_type": "code",
   "execution_count": 33,
   "metadata": {
    "collapsed": true,
    "scrolled": true
   },
   "outputs": [
    {
     "ename": "NameError",
     "evalue": "name 'FlightData' is not defined",
     "output_type": "error",
     "traceback": [
      "\u001b[1;31m---------------------------------------------------------------------------\u001b[0m",
      "\u001b[1;31mNameError\u001b[0m                                 Traceback (most recent call last)",
      "\u001b[1;32m<ipython-input-33-a5d9c95e9876>\u001b[0m in \u001b[0;36m<module>\u001b[1;34m\u001b[0m\n\u001b[1;32m----> 1\u001b[1;33m \u001b[0mFlightData\u001b[0m\u001b[1;33m\u001b[0m\u001b[1;33m\u001b[0m\u001b[0m\n\u001b[0m",
      "\u001b[1;31mNameError\u001b[0m: name 'FlightData' is not defined"
     ]
    }
   ],
   "source": [
    "FlightData"
   ]
  },
  {
   "cell_type": "code",
   "execution_count": null,
   "metadata": {
    "collapsed": true,
    "scrolled": true
   },
   "outputs": [],
   "source": []
  }
 ],
 "metadata": {
  "kernelspec": {
   "display_name": "Python 3",
   "language": "python",
   "name": "python3"
  },
  "language_info": {
   "codemirror_mode": {
    "name": "ipython",
    "version": 3
   },
   "file_extension": ".py",
   "mimetype": "text/x-python",
   "name": "python",
   "nbconvert_exporter": "python",
   "pygments_lexer": "ipython3",
   "version": "3.8.5"
  }
 },
 "nbformat": 4,
 "nbformat_minor": 4
}
